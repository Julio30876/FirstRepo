{
  "cells": [
    {
      "cell_type": "markdown",
      "metadata": {},
      "source": [
        "<center>\n",
        "    <img src=\"https://cf-courses-data.s3.us.cloud-object-storage.appdomain.cloud/IBMDeveloperSkillsNetwork-DS0105EN-SkillsNetwork/labs/Module2/images/SN_web_lightmode.png\" width=\"300\" alt=\"cognitiveclass.ai logo\">\n",
        "</center>"
      ]
    },
    {
      "cell_type": "markdown",
      "metadata": {},
      "source": [
        "# Hands-on Lab: Create your Jupyter Notebook"
      ]
    },
    {
      "cell_type": "markdown",
      "metadata": {},
      "source": [
        "#### Add your code below following the instructions given in the course"
      ]
    },
    {
      "cell_type": "markdown",
      "metadata": {},
      "source": [
        "Ejercicio 2: Crear una celda de markdown con el título del cuaderno"
      ]
    },
    {
      "cell_type": "markdown",
      "metadata": {},
      "source": [
        "# Data Science Tools and Ecosystem"
      ]
    },
    {
      "cell_type": "markdown",
      "metadata": {},
      "source": [
        "Ejercicio 3 - Crear una celda de markdown para una introducción"
      ]
    },
    {
      "cell_type": "markdown",
      "metadata": {},
      "source": [
        "En este cuaderno, se resumen las herramientas y ecosistemas de ciencia de datos."
      ]
    },
    {
      "cell_type": "markdown",
      "metadata": {},
      "source": [
        "Ejercicio 4 - Crear una celda de markdown para listar lenguajes de ciencia de datos"
      ]
    },
    {
      "cell_type": "markdown",
      "metadata": {},
      "source": [
        "Algunos de los lenguajes populares que utilizan los científicos de datos son:\n",
        "1. Python\n",
        "2. R\n",
        "3. Julia"
      ]
    },
    {
      "cell_type": "markdown",
      "metadata": {},
      "source": [
        "Ejercicio 5 - Crear una celda de markdown para listar bibliotecas de ciencia de datos"
      ]
    },
    {
      "cell_type": "markdown",
      "metadata": {},
      "source": [
        "Algunas de las bibliotecas comúnmente utilizadas por los científicos de datos incluyen:\n",
        "1. NumPy\n",
        "2. Pandas\n",
        "3. Matplotlib"
      ]
    },
    {
      "cell_type": "markdown",
      "metadata": {},
      "source": [
        "Ejercicio 6 - Crear una celda de markdown con una tabla de herramientas de ciencia de datos"
      ]
    },
    {
      "cell_type": "markdown",
      "metadata": {},
      "source": [
        "| Herramientas de Ciencia de Datos | \n",
        "|-------------|\n",
        "| Jupyter |\n",
        "| Apache Zeppelin |\n",
        "| Rstudio |"
      ]
    },
    {
      "cell_type": "markdown",
      "metadata": {},
      "source": [
        "Ejercicio 7 - Crear una celda de markdown introduciendo ejemplos de expresiones aritméticas"
      ]
    },
    {
      "cell_type": "markdown",
      "metadata": {},
      "source": [
        "### A continuación, se presentan algunos ejemplos de evaluación de expresiones aritméticas en Python"
      ]
    },
    {
      "cell_type": "markdown",
      "metadata": {},
      "source": [
        "Ejercicio 8 - Crear una celda de código para multiplicar y sumar números"
      ]
    },
    {
      "cell_type": "code",
      "execution_count": 1,
      "metadata": {
        "trusted": true
      },
      "outputs": [
        {
          "data": {
            "text/plain": [
              "17"
            ]
          },
          "execution_count": 1,
          "metadata": {},
          "output_type": "execute_result"
        }
      ],
      "source": [
        "# Esta es una expresión aritmética simple para multiplicar y luego sumar enteros\n",
        "\n",
        "(3*4)+5 "
      ]
    },
    {
      "cell_type": "markdown",
      "metadata": {},
      "source": [
        "Ejercicio 9 - Crear una celda de código para convertir minutos a horas"
      ]
    },
    {
      "cell_type": "code",
      "execution_count": 2,
      "metadata": {
        "trusted": true
      },
      "outputs": [
        {
          "data": {
            "text/plain": [
              "3.3333333333333335"
            ]
          },
          "execution_count": 2,
          "metadata": {},
          "output_type": "execute_result"
        }
      ],
      "source": [
        "# Esto convertirá 200 minutos a horas dividiendo por 60\n",
        "\n",
        "200/60"
      ]
    },
    {
      "cell_type": "markdown",
      "metadata": {},
      "source": [
        "Ejercicio 10 - Insertar una celda de markdown para listar Objetivos"
      ]
    },
    {
      "cell_type": "markdown",
      "metadata": {},
      "source": [
        "**Objetivos:**\n",
        "- Listar lenguajes populares para Ciencia de Datos\n",
        "- Listar bibliotecas comunmente utilizadas en ciencia de datos \n",
        "- Listar herramientas de codigo abierto del entorno de desarrollo utilizadas en ciencia de datos\n",
        "- Creación de cuenta de github y tutorial\n",
        "- Tutorial primeros pasos en Jupyter y Rstudio"
      ]
    },
    {
      "cell_type": "markdown",
      "metadata": {},
      "source": [
        "Ejercicio 11 - Crear una celda de markdown para indicar el nombre del autor"
      ]
    },
    {
      "cell_type": "markdown",
      "metadata": {},
      "source": [
        "## Autor"
      ]
    },
    {
      "cell_type": "markdown",
      "metadata": {},
      "source": [
        "Julio Alburquerque Quintanilla"
      ]
    },
    {
      "cell_type": "markdown",
      "metadata": {},
      "source": [
        "Copyright ©2024 IBM Corporation. All rights reserved."
      ]
    }
  ],
  "metadata": {
    "kernelspec": {
      "display_name": "Python 3",
      "language": "python",
      "name": "python3"
    },
    "language_info": {
      "codemirror_mode": {
        "name": "ipython",
        "version": 3
      },
      "file_extension": ".py",
      "mimetype": "text/x-python",
      "name": "python",
      "nbconvert_exporter": "python",
      "pygments_lexer": "ipython3",
      "version": "3.12.9"
    }
  },
  "nbformat": 4,
  "nbformat_minor": 4
}
