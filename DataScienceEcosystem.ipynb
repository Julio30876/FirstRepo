{
  "metadata": {
    "kernelspec": {
      "name": "python",
      "display_name": "Python (Pyodide)",
      "language": "python"
    },
    "language_info": {
      "codemirror_mode": {
        "name": "python",
        "version": 3
      },
      "file_extension": ".py",
      "mimetype": "text/x-python",
      "name": "python",
      "nbconvert_exporter": "python",
      "pygments_lexer": "ipython3",
      "version": "3.8"
    }
  },
  "nbformat_minor": 4,
  "nbformat": 4,
  "cells": [
    {
      "cell_type": "markdown",
      "source": "Ejercicio 2: Crear una celda de markdown con el título del cuaderno",
      "metadata": {}
    },
    {
      "cell_type": "markdown",
      "source": "# Data Science Tools and Ecosystem",
      "metadata": {}
    },
    {
      "cell_type": "markdown",
      "source": "Ejercicio 3 - Crear una celda de markdown para una introducción",
      "metadata": {}
    },
    {
      "cell_type": "markdown",
      "source": "En este cuaderno, se resumen las herramientas y ecosistemas de ciencia de datos.",
      "metadata": {}
    },
    {
      "cell_type": "markdown",
      "source": "Ejercicio 4 - Crear una celda de markdown para listar lenguajes de ciencia de datos",
      "metadata": {}
    },
    {
      "cell_type": "markdown",
      "source": "Algunos de los lenguajes populares que utilizan los científicos de datos son:\n1. Python\n2. R\n3. Julia",
      "metadata": {}
    },
    {
      "cell_type": "markdown",
      "source": "Ejercicio 5 - Crear una celda de markdown para listar bibliotecas de ciencia de datos",
      "metadata": {}
    },
    {
      "cell_type": "markdown",
      "source": "Algunas de las bibliotecas comúnmente utilizadas por los científicos de datos incluyen:\n1. NumPy\n2. Pandas\n3. Matplotlib",
      "metadata": {}
    },
    {
      "cell_type": "markdown",
      "source": "Ejercicio 6 - Crear una celda de markdown con una tabla de herramientas de ciencia de datos",
      "metadata": {}
    },
    {
      "cell_type": "markdown",
      "source": "| Herramientas de Ciencia de Datos | \n|-------------|\n| Jupyter |\n| Apache Zeppelin |\n| Rstudio |",
      "metadata": {}
    },
    {
      "cell_type": "markdown",
      "source": "Ejercicio 7 - Crear una celda de markdown introduciendo ejemplos de expresiones aritméticas",
      "metadata": {}
    },
    {
      "cell_type": "markdown",
      "source": "### A continuación, se presentan algunos ejemplos de evaluación de expresiones aritméticas en Python",
      "metadata": {}
    },
    {
      "cell_type": "markdown",
      "source": "Ejercicio 8 - Crear una celda de código para multiplicar y sumar números",
      "metadata": {}
    },
    {
      "cell_type": "code",
      "source": "# Esta es una expresión aritmética simple para multiplicar y luego sumar enteros\n\n(3*4)+5 ",
      "metadata": {
        "trusted": true
      },
      "outputs": [
        {
          "execution_count": 2,
          "output_type": "execute_result",
          "data": {
            "text/plain": "17"
          },
          "metadata": {}
        }
      ],
      "execution_count": 2
    },
    {
      "cell_type": "markdown",
      "source": "Ejercicio 9 - Crear una celda de código para convertir minutos a horas",
      "metadata": {}
    },
    {
      "cell_type": "code",
      "source": "# Esto convertirá 200 minutos a horas dividiendo por 60\n\n200/60",
      "metadata": {
        "trusted": true
      },
      "outputs": [
        {
          "execution_count": 6,
          "output_type": "execute_result",
          "data": {
            "text/plain": "3.3333333333333335"
          },
          "metadata": {}
        }
      ],
      "execution_count": 6
    },
    {
      "cell_type": "markdown",
      "source": "Ejercicio 10 - Insertar una celda de markdown para listar Objetivos",
      "metadata": {}
    },
    {
      "cell_type": "markdown",
      "source": "**Objetivos:**\n- Listar lenguajes populares para Ciencia de Datos\n- Listar bibliotecas comunmente utilizadas en ciencia de datos \n- Listar herramientas de codigo abierto del entorno de desarrollo utilizadas en ciencia de datos\n- Creación de cuenta de github y tutorial\n- Tutorial primeros pasos en Jupyter y Rstudio",
      "metadata": {}
    },
    {
      "cell_type": "markdown",
      "source": "Ejercicio 11 - Crear una celda de markdown para indicar el nombre del autor",
      "metadata": {}
    },
    {
      "cell_type": "markdown",
      "source": "## Autor",
      "metadata": {}
    },
    {
      "cell_type": "markdown",
      "source": "Julio Alburquerque Quintanilla",
      "metadata": {}
    },
    {
      "cell_type": "code",
      "source": "",
      "metadata": {
        "trusted": true
      },
      "outputs": [],
      "execution_count": null
    }
  ]
}